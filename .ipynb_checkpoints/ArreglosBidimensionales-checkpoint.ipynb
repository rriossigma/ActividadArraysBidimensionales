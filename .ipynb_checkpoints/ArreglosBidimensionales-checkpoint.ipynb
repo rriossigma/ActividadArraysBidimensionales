{
 "cells": [
  {
   "cell_type": "code",
   "execution_count": 4,
   "id": "cbaded4a",
   "metadata": {},
   "outputs": [],
   "source": [
    "import numpy as np"
   ]
  },
  {
   "cell_type": "code",
   "execution_count": 5,
   "id": "49f3f803",
   "metadata": {},
   "outputs": [
    {
     "name": "stdout",
     "output_type": "stream",
     "text": [
      "[[0, 1, 2], [3, 4, 5], [6, 7, 8]]\n"
     ]
    }
   ],
   "source": [
    "filas = 3\n",
    "columnas= 3\n",
    "# #######\n",
    "ma = []\n",
    "elem = 0\n",
    "for i in range(filas):\n",
    "    fila = []\n",
    "    for j in range(columnas):\n",
    "        fila.append(elem)\n",
    "        elem += 1\n",
    "    ma.append(fila)\n",
    "\n",
    "print(ma)"
   ]
  },
  {
   "cell_type": "code",
   "execution_count": 6,
   "id": "bef5e55c",
   "metadata": {},
   "outputs": [],
   "source": [
    "m=np.identity(6)\n"
   ]
  },
  {
   "cell_type": "code",
   "execution_count": null,
   "id": "bf3806be",
   "metadata": {},
   "outputs": [],
   "source": []
  }
 ],
 "metadata": {
  "kernelspec": {
   "display_name": "Python 3",
   "language": "python",
   "name": "python3"
  },
  "language_info": {
   "codemirror_mode": {
    "name": "ipython",
    "version": 3
   },
   "file_extension": ".py",
   "mimetype": "text/x-python",
   "name": "python",
   "nbconvert_exporter": "python",
   "pygments_lexer": "ipython3",
   "version": "3.6.13"
  }
 },
 "nbformat": 4,
 "nbformat_minor": 5
}
